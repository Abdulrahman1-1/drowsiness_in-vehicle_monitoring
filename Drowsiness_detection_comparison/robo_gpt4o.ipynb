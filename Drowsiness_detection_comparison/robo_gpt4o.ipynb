{
 "cells": [
  {
   "cell_type": "code",
   "execution_count": 1,
   "metadata": {},
   "outputs": [],
   "source": [
    "import base64\n",
    "import os\n",
    "import pandas as pd\n",
    "from PIL import Image\n",
    "from openai import OpenAI\n",
    "from sklearn.metrics import accuracy_score, precision_score, recall_score, f1_score, classification_report, confusion_matrix\n",
    "import matplotlib.pyplot as plt\n",
    "import seaborn as sns\n",
    "from dotenv import load_dotenv"
   ]
  },
  {
   "cell_type": "code",
   "execution_count": 2,
   "metadata": {},
   "outputs": [],
   "source": [
    "# Function to encode image to base64\n",
    "def encode_image(image_path):\n",
    "    with open(image_path, \"rb\") as image_file:\n",
    "        return base64.b64encode(image_file.read()).decode(\"utf-8\")"
   ]
  },
  {
   "cell_type": "code",
   "execution_count": 3,
   "metadata": {},
   "outputs": [],
   "source": [
    "# Setup OpenAI API client\n",
    "load_dotenv('.env', override=True)\n",
    "api_key = os.getenv(\"OPENAI_API_KEY\")\n",
    "client = OpenAI(api_key=api_key)"
   ]
  },
  {
   "cell_type": "code",
   "execution_count": 4,
   "metadata": {},
   "outputs": [],
   "source": [
    "# Function to classify an image using GPT-4o\n",
    "def classify_image_gpt4o(image_path, client):\n",
    "    base64_image = encode_image(image_path)\n",
    "\n",
    "    response = client.chat.completions.create(\n",
    "        model=\"gpt-4o\",\n",
    "        messages=[\n",
    "            {\n",
    "                \"role\": \"system\",\n",
    "                \"content\": \"You are an expert assistant trained to classify a person's state into one of the following categories: 'alert' or 'drowsy'. Yawning is considered drowsy. Base your classification on the person’s facial expressions such as mouth and eyes. Provide only the class name as your response (one word ONLY).\"\n",
    "            },\n",
    "            {\n",
    "                \"role\": \"user\",\n",
    "                \"content\": [\n",
    "                    {\"type\": \"text\", \"text\": \"Classify the person's state in this image.\"},\n",
    "                    {\"type\": \"image_url\", \"image_url\": {\"url\": f\"data:image/png;base64,{base64_image}\"}}\n",
    "                ]\n",
    "            }\n",
    "        ],\n",
    "        temperature=0.0\n",
    "    )\n",
    "\n",
    "    return response.choices[0].message.content.strip().lower().replace(\".\", \"\")"
   ]
  },
  {
   "cell_type": "code",
   "execution_count": 5,
   "metadata": {},
   "outputs": [],
   "source": [
    "# Function to evaluate GPT-4o on test set\n",
    "def evaluate_model_on_dataset_gpt4o(root_dir, client):\n",
    "    test_folder = os.path.join(root_dir, \"test\")\n",
    "    csv_files = [f for f in os.listdir(test_folder) if f.endswith(\"_classes.csv\")]\n",
    "    assert len(csv_files) == 1, \"Expected one _classes.csv file in the test folder.\"\n",
    "\n",
    "    csv_path = os.path.join(test_folder, csv_files[0])\n",
    "    df = pd.read_csv(csv_path)\n",
    "\n",
    "    label_mapping = {\"alert\": 0, \"drowsy\": 1}\n",
    "    inverse_label_mapping = {v: k for k, v in label_mapping.items()}\n",
    "\n",
    "    all_labels = []\n",
    "    all_preds = []\n",
    "\n",
    "    for _, row in df.iterrows():\n",
    "        filename = row[\"filename\"]\n",
    "        label = \"drowsy\" if row[\"1\"] == 1 else \"alert\"\n",
    "        image_path = os.path.join(test_folder, filename)\n",
    "\n",
    "        if not os.path.isfile(image_path):\n",
    "            print(f\"Missing file: {image_path}, skipping.\")\n",
    "            continue\n",
    "\n",
    "        if not filename.lower().endswith(('.jpg', '.jpeg', '.png')):\n",
    "            print(f\"Unsupported file type: {filename}, skipping.\")\n",
    "            continue\n",
    "\n",
    "        # Predict with GPT-4o\n",
    "        predicted_label = classify_image_gpt4o(image_path, client)\n",
    "\n",
    "        if predicted_label not in label_mapping:\n",
    "            print(f\"Unexpected model output '{predicted_label}' for {filename}, skipping.\")\n",
    "            continue\n",
    "\n",
    "        all_labels.append(label_mapping[label])\n",
    "        all_preds.append(label_mapping[predicted_label])\n",
    "\n",
    "    # Metrics\n",
    "    accuracy = accuracy_score(all_labels, all_preds)\n",
    "    precision = precision_score(all_labels, all_preds, average=\"weighted\")\n",
    "    recall = recall_score(all_labels, all_preds, average=\"weighted\")\n",
    "    f1 = f1_score(all_labels, all_preds, average=\"weighted\")\n",
    "\n",
    "    print(f\"Accuracy: {accuracy:.4f}\")\n",
    "    print(f\"Precision: {precision:.4f}\")\n",
    "    print(f\"Recall: {recall:.4f}\")\n",
    "    print(f\"F1 Score: {f1:.4f}\\n\")\n",
    "\n",
    "    print(\"Classification Report:\")\n",
    "    print(classification_report(all_labels, all_preds, target_names=[\"alert\", \"drowsy\"]))\n",
    "\n",
    "    # Confusion matrix\n",
    "    conf_matrix = confusion_matrix(all_labels, all_preds)\n",
    "    plt.figure(figsize=(4, 3))\n",
    "    sns.heatmap(conf_matrix, annot=True, fmt=\"d\", cmap=\"Blues\",\n",
    "                xticklabels=[\"alert\", \"drowsy\"], yticklabels=[\"alert\", \"drowsy\"])\n",
    "    plt.xlabel(\"Predicted\")\n",
    "    plt.ylabel(\"True\")\n",
    "    plt.title(\"Confusion Matrix on Test Dataset\")\n",
    "    plt.tight_layout()\n",
    "    plt.show()"
   ]
  },
  {
   "cell_type": "code",
   "execution_count": 6,
   "metadata": {},
   "outputs": [
    {
     "name": "stdout",
     "output_type": "stream",
     "text": [
      "Accuracy: 0.8154\n",
      "Precision: 0.9189\n",
      "Recall: 0.8154\n",
      "F1 Score: 0.8438\n",
      "\n",
      "Classification Report:\n",
      "              precision    recall  f1-score   support\n",
      "\n",
      "       alert       0.39      0.95      0.55        58\n",
      "      drowsy       0.99      0.80      0.88       424\n",
      "\n",
      "    accuracy                           0.82       482\n",
      "   macro avg       0.69      0.87      0.72       482\n",
      "weighted avg       0.92      0.82      0.84       482\n",
      "\n"
     ]
    },
    {
     "data": {
      "image/png": "[encoded data removed]",
      "text/plain": [
       "<Figure size 400x300 with 2 Axes>"
      ]
     },
     "metadata": {},
     "output_type": "display_data"
    }
   ],
   "source": [
    "# Run the evaluation\n",
    "dataset_dir = \"./Drowsiness-/-Fatigue_Detection-4\"\n",
    "evaluate_model_on_dataset_gpt4o(dataset_dir, client)"
   ]
  }
 ],
 "metadata": {
  "kernelspec": {
   "display_name": "transformers",
   "language": "python",
   "name": "python3"
  },
  "language_info": {
   "codemirror_mode": {
    "name": "ipython",
    "version": 3
   },
   "file_extension": ".py",
   "mimetype": "text/x-python",
   "name": "python",
   "nbconvert_exporter": "python",
   "pygments_lexer": "ipython3",
   "version": "3.10.16"
  }
 },
 "nbformat": 4,
 "nbformat_minor": 2
}
